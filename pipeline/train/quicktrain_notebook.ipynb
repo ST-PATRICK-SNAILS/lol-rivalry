{
 "cells": [
  {
   "cell_type": "code",
   "execution_count": 11,
   "metadata": {},
   "outputs": [],
   "source": [
    "import pandas as pd\n",
    "from sklearn.model_selection import train_test_split"
   ]
  },
  {
   "cell_type": "code",
   "execution_count": 12,
   "metadata": {},
   "outputs": [],
   "source": [
    "df = pd.read_csv('../writes/normalizedpropdata.csv')\n",
    "\n",
    "X = df.iloc[:, :-1]\n",
    "y = df.iloc[:, -1]\n",
    "\n",
    "X_train, X_test, y_train, y_test = train_test_split(X, y, test_size=0.2, random_state=42)"
   ]
  },
  {
   "cell_type": "code",
   "execution_count": 13,
   "metadata": {},
   "outputs": [
    {
     "name": "stdout",
     "output_type": "stream",
     "text": [
      "RUNNING THE L-BFGS-B CODE\n",
      "\n",
      "           * * *\n",
      "\n",
      "Machine precision = 2.220D-16\n",
      " N =          192     M =           10\n",
      "\n",
      "At X0         0 variables are exactly at the bounds\n",
      "\n",
      "At iterate    0    f=  6.93147D-01    |proj g|=  2.19993D+01\n"
     ]
    },
    {
     "name": "stderr",
     "output_type": "stream",
     "text": [
      " This problem is unconstrained.\n"
     ]
    },
    {
     "name": "stdout",
     "output_type": "stream",
     "text": [
      "\n",
      "At iterate   50    f=  5.69236D-01    |proj g|=  2.09393D+00\n",
      "\n",
      "At iterate  100    f=  5.64556D-01    |proj g|=  2.24222D+00\n",
      "\n",
      "At iterate  150    f=  5.57305D-01    |proj g|=  1.05180D+01\n",
      "\n",
      "At iterate  200    f=  5.56684D-01    |proj g|=  9.94063D+00\n",
      "\n",
      "At iterate  250    f=  5.54706D-01    |proj g|=  3.81646D-01\n",
      "\n",
      "At iterate  300    f=  5.54264D-01    |proj g|=  1.16742D+01\n",
      "\n",
      "At iterate  350    f=  5.52750D-01    |proj g|=  1.24481D-01\n",
      "\n",
      "At iterate  400    f=  5.52227D-01    |proj g|=  4.37488D+00\n",
      "\n",
      "At iterate  450    f=  5.51674D-01    |proj g|=  4.53609D-02\n",
      "\n",
      "At iterate  500    f=  5.51511D-01    |proj g|=  6.21333D-01\n",
      "\n",
      "At iterate  550    f=  5.51224D-01    |proj g|=  7.61913D-01\n",
      "\n",
      "At iterate  600    f=  5.50581D-01    |proj g|=  7.84806D+01\n",
      "\n",
      "At iterate  650    f=  5.50317D-01    |proj g|=  9.90032D-01\n",
      "\n",
      "At iterate  700    f=  5.50316D-01    |proj g|=  1.05992D-01\n",
      "\n",
      "At iterate  750    f=  5.50310D-01    |proj g|=  1.26582D-01\n",
      "\n",
      "At iterate  800    f=  5.50099D-01    |proj g|=  1.18824D+01\n",
      "\n",
      "At iterate  850    f=  5.50049D-01    |proj g|=  7.20138D+00\n",
      "\n",
      "At iterate  900    f=  5.49738D-01    |proj g|=  9.37189D-02\n",
      "\n",
      "At iterate  950    f=  5.49410D-01    |proj g|=  6.02069D-01\n",
      "\n",
      "At iterate 1000    f=  5.49347D-01    |proj g|=  6.04021D-01\n",
      "\n",
      "At iterate 1050    f=  5.49211D-01    |proj g|=  1.33892D+00\n",
      "\n",
      "At iterate 1100    f=  5.48529D-01    |proj g|=  8.71756D+00\n",
      "\n",
      "At iterate 1150    f=  5.48330D-01    |proj g|=  4.48864D-02\n",
      "\n",
      "At iterate 1200    f=  5.48324D-01    |proj g|=  2.74877D-01\n",
      "\n",
      "At iterate 1250    f=  5.48315D-01    |proj g|=  3.27398D+00\n",
      "\n",
      "At iterate 1300    f=  5.48299D-01    |proj g|=  8.92352D-02\n",
      "\n",
      "At iterate 1350    f=  5.48097D-01    |proj g|=  8.39770D-02\n",
      "\n",
      "At iterate 1400    f=  5.47916D-01    |proj g|=  4.85477D-03\n",
      "\n",
      "At iterate 1450    f=  5.47841D-01    |proj g|=  3.91233D+00\n",
      "\n",
      "At iterate 1500    f=  5.47652D-01    |proj g|=  1.89207D-01\n",
      "\n",
      "At iterate 1550    f=  5.47560D-01    |proj g|=  1.43784D+00\n",
      "\n",
      "At iterate 1600    f=  5.47407D-01    |proj g|=  2.45139D+00\n",
      "\n",
      "At iterate 1650    f=  5.47405D-01    |proj g|=  6.34568D-02\n",
      "\n",
      "At iterate 1700    f=  5.47354D-01    |proj g|=  5.37223D-02\n",
      "\n",
      "At iterate 1750    f=  5.47323D-01    |proj g|=  1.07830D-01\n",
      "\n",
      "At iterate 1800    f=  5.47322D-01    |proj g|=  2.65104D-02\n",
      "\n",
      "At iterate 1850    f=  5.47295D-01    |proj g|=  6.46256D-01\n",
      "\n",
      "At iterate 1900    f=  5.47294D-01    |proj g|=  1.58996D-03\n",
      "\n",
      "At iterate 1950    f=  5.47250D-01    |proj g|=  1.69769D-01\n",
      "\n",
      "At iterate 2000    f=  5.47249D-01    |proj g|=  3.07422D-02\n",
      "\n",
      "           * * *\n",
      "\n",
      "Tit   = total number of iterations\n",
      "Tnf   = total number of function evaluations\n",
      "Tnint = total number of segments explored during Cauchy searches\n",
      "Skip  = number of BFGS updates skipped\n",
      "Nact  = number of active bounds at final generalized Cauchy point\n",
      "Projg = norm of the final projected gradient\n",
      "F     = final function value\n",
      "\n",
      "           * * *\n",
      "\n",
      "   N    Tit     Tnf  Tnint  Skip  Nact     Projg        F\n",
      "  192   2000   2403      1     0     0   3.074D-02   5.472D-01\n",
      "  F =  0.54724948296733100     \n",
      "\n",
      "STOP: TOTAL NO. of ITERATIONS REACHED LIMIT                 \n"
     ]
    },
    {
     "name": "stderr",
     "output_type": "stream",
     "text": [
      "/Users/johnliu/Documents/vscode-workspace/lol-rivalry/.venv/lib/python3.11/site-packages/sklearn/linear_model/_logistic.py:469: ConvergenceWarning: lbfgs failed to converge (status=1):\n",
      "STOP: TOTAL NO. of ITERATIONS REACHED LIMIT.\n",
      "\n",
      "Increase the number of iterations (max_iter) or scale the data as shown in:\n",
      "    https://scikit-learn.org/stable/modules/preprocessing.html\n",
      "Please also refer to the documentation for alternative solver options:\n",
      "    https://scikit-learn.org/stable/modules/linear_model.html#logistic-regression\n",
      "  n_iter_i = _check_optimize_result(\n"
     ]
    },
    {
     "data": {
      "text/plain": [
       "['logistic_regression_model.pkl']"
      ]
     },
     "execution_count": 13,
     "metadata": {},
     "output_type": "execute_result"
    }
   ],
   "source": [
    "from sklearn.linear_model import LogisticRegression\n",
    "import joblib\n",
    "\n",
    "model = LogisticRegression(max_iter=2000, random_state=42, verbose=1)\n",
    "model.fit(X_train, y_train)\n",
    "joblib.dump(model, 'logistic_regression_model.pkl')"
   ]
  },
  {
   "cell_type": "code",
   "execution_count": 14,
   "metadata": {},
   "outputs": [
    {
     "name": "stdout",
     "output_type": "stream",
     "text": [
      "Accuracy: 0.7231627165903206\n",
      "Confusion Matrix:\n",
      "[[1922  681]\n",
      " [ 709 1709]]\n",
      "Classification Report:\n",
      "              precision    recall  f1-score   support\n",
      "\n",
      "           0       0.73      0.74      0.73      2603\n",
      "           1       0.72      0.71      0.71      2418\n",
      "\n",
      "    accuracy                           0.72      5021\n",
      "   macro avg       0.72      0.72      0.72      5021\n",
      "weighted avg       0.72      0.72      0.72      5021\n",
      "\n"
     ]
    }
   ],
   "source": [
    "\n",
    "from sklearn.metrics import accuracy_score, confusion_matrix, classification_report\n",
    "\n",
    "y_pred = model.predict(X_test)\n",
    "\n",
    "accuracy = accuracy_score(y_test, y_pred)\n",
    "conf_matrix = confusion_matrix(y_test, y_pred)\n",
    "class_report = classification_report(y_test, y_pred)\n",
    "\n",
    "print(f'Accuracy: {accuracy}')\n",
    "print('Confusion Matrix:')\n",
    "print(conf_matrix)\n",
    "print('Classification Report:')\n",
    "print(class_report)"
   ]
  },
  {
   "cell_type": "code",
   "execution_count": 15,
   "metadata": {},
   "outputs": [
    {
     "data": {
      "image/png": "[encoded data removed]",
      "text/plain": [
       "<Figure size 400x300 with 2 Axes>"
      ]
     },
     "metadata": {},
     "output_type": "display_data"
    }
   ],
   "source": [
    "import seaborn as sns\n",
    "import matplotlib.pyplot as plt\n",
    "\n",
    "plt.figure(figsize=(4, 3))\n",
    "ax = sns.heatmap(conf_matrix, annot=True, fmt='d', linewidth=1., cmap='Blues', \n",
    "                 xticklabels=model.classes_, yticklabels=model.classes_)\n",
    "total = 0\n",
    "for t in ax.texts: total += float(t.get_text())\n",
    "for t in ax.texts: t.set_text(f\"{round(100 * float(t.get_text())/total, 1)}%\")\n",
    "plt.title(f'Model Stats (Confusion Matrix)')\n",
    "plt.xlabel('Predicted Labels')\n",
    "plt.ylabel('True Labels')\n",
    "plt.show()"
   ]
  }
 ],
 "metadata": {
  "kernelspec": {
   "display_name": ".venv",
   "language": "python",
   "name": "python3"
  },
  "language_info": {
   "codemirror_mode": {
    "name": "ipython",
    "version": 3
   },
   "file_extension": ".py",
   "mimetype": "text/x-python",
   "name": "python",
   "nbconvert_exporter": "python",
   "pygments_lexer": "ipython3",
   "version": "3.11.4"
  }
 },
 "nbformat": 4,
 "nbformat_minor": 2
}
