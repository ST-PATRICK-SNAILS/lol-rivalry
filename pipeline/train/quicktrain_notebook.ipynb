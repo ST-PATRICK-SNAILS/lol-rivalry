{
 "cells": [
  {
   "cell_type": "code",
   "execution_count": 2,
   "metadata": {},
   "outputs": [],
   "source": [
    "import pandas as pd\n",
    "from sklearn.model_selection import train_test_split"
   ]
  },
  {
   "cell_type": "code",
   "execution_count": 3,
   "metadata": {},
   "outputs": [],
   "source": [
    "df = pd.read_csv('../writes/shortpropdata.csv')\n",
    "\n",
    "X = df.iloc[:, :-1]\n",
    "y = df.iloc[:, -1]\n",
    "\n",
    "X_train, X_test, y_train, y_test = train_test_split(X, y, test_size=0.2, random_state=42)"
   ]
  },
  {
   "cell_type": "code",
   "execution_count": 4,
   "metadata": {},
   "outputs": [
    {
     "name": "stderr",
     "output_type": "stream",
     "text": [
      " This problem is unconstrained.\n"
     ]
    },
    {
     "name": "stdout",
     "output_type": "stream",
     "text": [
      "RUNNING THE L-BFGS-B CODE\n",
      "\n",
      "           * * *\n",
      "\n",
      "Machine precision = 2.220D-16\n",
      " N =          164     M =           10\n",
      "\n",
      "At X0         0 variables are exactly at the bounds\n",
      "\n",
      "At iterate    0    f=  6.93147D-01    |proj g|=  3.47013D+02\n",
      "\n",
      "At iterate   50    f=  6.15785D-01    |proj g|=  1.46074D+01\n",
      "\n",
      "At iterate  100    f=  6.08877D-01    |proj g|=  9.89277D-01\n",
      "\n",
      "At iterate  150    f=  6.08114D-01    |proj g|=  4.89346D+00\n",
      "\n",
      "At iterate  200    f=  6.07506D-01    |proj g|=  2.28190D+00\n",
      "\n",
      "At iterate  250    f=  6.06521D-01    |proj g|=  3.24962D+00\n",
      "\n",
      "At iterate  300    f=  6.05951D-01    |proj g|=  1.52564D+01\n",
      "\n",
      "At iterate  350    f=  6.03476D-01    |proj g|=  2.60944D+01\n",
      "\n",
      "At iterate  400    f=  6.02854D-01    |proj g|=  5.23971D+00\n",
      "\n",
      "At iterate  450    f=  6.01578D-01    |proj g|=  1.80938D+00\n",
      "\n",
      "At iterate  500    f=  5.98515D-01    |proj g|=  6.06961D+00\n",
      "\n",
      "At iterate  550    f=  5.91134D-01    |proj g|=  1.55244D+00\n",
      "\n",
      "At iterate  600    f=  5.89322D-01    |proj g|=  2.77721D+00\n",
      "\n",
      "At iterate  650    f=  5.88820D-01    |proj g|=  5.54817D+00\n",
      "\n",
      "At iterate  700    f=  5.87899D-01    |proj g|=  6.33162D-01\n",
      "\n",
      "At iterate  750    f=  5.86569D-01    |proj g|=  9.40542D+00\n",
      "\n",
      "At iterate  800    f=  5.85206D-01    |proj g|=  3.81007D+00\n",
      "\n",
      "At iterate  850    f=  5.84529D-01    |proj g|=  1.12080D+00\n",
      "\n",
      "At iterate  900    f=  5.84382D-01    |proj g|=  2.88075D+00\n",
      "\n",
      "At iterate  950    f=  5.84199D-01    |proj g|=  1.32849D+01\n",
      "\n",
      "At iterate 1000    f=  5.84049D-01    |proj g|=  9.52038D+00\n",
      "\n",
      "At iterate 1050    f=  5.83815D-01    |proj g|=  1.15951D+00\n",
      "\n",
      "At iterate 1100    f=  5.83552D-01    |proj g|=  3.13965D+00\n",
      "\n",
      "At iterate 1150    f=  5.83416D-01    |proj g|=  9.12377D-01\n",
      "\n",
      "At iterate 1200    f=  5.83337D-01    |proj g|=  1.08440D+00\n",
      "\n",
      "At iterate 1250    f=  5.83309D-01    |proj g|=  3.80032D-01\n",
      "\n",
      "At iterate 1300    f=  5.83281D-01    |proj g|=  6.20672D-01\n",
      "\n",
      "At iterate 1350    f=  5.83228D-01    |proj g|=  6.57282D-01\n",
      "\n",
      "At iterate 1400    f=  5.83142D-01    |proj g|=  2.07488D-01\n",
      "\n",
      "At iterate 1450    f=  5.82932D-01    |proj g|=  3.93194D+00\n",
      "\n",
      "At iterate 1500    f=  5.82849D-01    |proj g|=  9.50342D-01\n",
      "\n",
      "           * * *\n",
      "\n",
      "Tit   = total number of iterations\n",
      "Tnf   = total number of function evaluations\n",
      "Tnint = total number of segments explored during Cauchy searches\n",
      "Skip  = number of BFGS updates skipped\n",
      "Nact  = number of active bounds at final generalized Cauchy point\n",
      "Projg = norm of the final projected gradient\n",
      "F     = final function value\n",
      "\n",
      "           * * *\n",
      "\n",
      "   N    Tit     Tnf  Tnint  Skip  Nact     Projg        F\n",
      "  164   1500   1742      1     0     0   9.503D-01   5.828D-01\n",
      "  F =  0.58284857875458784     \n",
      "\n",
      "STOP: TOTAL NO. of ITERATIONS REACHED LIMIT                 \n"
     ]
    },
    {
     "name": "stderr",
     "output_type": "stream",
     "text": [
      "/Users/johnliu/Documents/vscode-workspace/lol-rivalry/.venv/lib/python3.11/site-packages/sklearn/linear_model/_logistic.py:469: ConvergenceWarning: lbfgs failed to converge (status=1):\n",
      "STOP: TOTAL NO. of ITERATIONS REACHED LIMIT.\n",
      "\n",
      "Increase the number of iterations (max_iter) or scale the data as shown in:\n",
      "    https://scikit-learn.org/stable/modules/preprocessing.html\n",
      "Please also refer to the documentation for alternative solver options:\n",
      "    https://scikit-learn.org/stable/modules/linear_model.html#logistic-regression\n",
      "  n_iter_i = _check_optimize_result(\n"
     ]
    },
    {
     "data": {
      "text/plain": [
       "['logistic_regression_model.pkl']"
      ]
     },
     "execution_count": 4,
     "metadata": {},
     "output_type": "execute_result"
    }
   ],
   "source": [
    "from sklearn.linear_model import LogisticRegression\n",
    "import joblib\n",
    "\n",
    "model = LogisticRegression(max_iter=1500, random_state=42, verbose=1)\n",
    "model.fit(X_train, y_train)\n",
    "joblib.dump(model, 'logistic_regression_model.pkl')"
   ]
  },
  {
   "cell_type": "code",
   "execution_count": 8,
   "metadata": {},
   "outputs": [
    {
     "name": "stdout",
     "output_type": "stream",
     "text": [
      "Accuracy: 0.68389662027833\n",
      "Confusion Matrix:\n",
      "[[1404  531]\n",
      " [ 582 1004]]\n",
      "Classification Report:\n",
      "              precision    recall  f1-score   support\n",
      "\n",
      "           0       0.71      0.73      0.72      1935\n",
      "           1       0.65      0.63      0.64      1586\n",
      "\n",
      "    accuracy                           0.68      3521\n",
      "   macro avg       0.68      0.68      0.68      3521\n",
      "weighted avg       0.68      0.68      0.68      3521\n",
      "\n"
     ]
    }
   ],
   "source": [
    "\n",
    "from sklearn.metrics import accuracy_score, confusion_matrix, classification_report\n",
    "\n",
    "y_pred = model.predict(X_test)\n",
    "\n",
    "accuracy = accuracy_score(y_test, y_pred)\n",
    "conf_matrix = confusion_matrix(y_test, y_pred)\n",
    "class_report = classification_report(y_test, y_pred)\n",
    "\n",
    "print(f'Accuracy: {accuracy}')\n",
    "print('Confusion Matrix:')\n",
    "print(conf_matrix)\n",
    "print('Classification Report:')\n",
    "print(class_report)"
   ]
  },
  {
   "cell_type": "code",
   "execution_count": 30,
   "metadata": {},
   "outputs": [
    {
     "data": {
      "image/png": "[encoded data removed]",
      "text/plain": [
       "<Figure size 500x300 with 2 Axes>"
      ]
     },
     "metadata": {},
     "output_type": "display_data"
    }
   ],
   "source": [
    "import seaborn as sns\n",
    "import matplotlib.pyplot as plt\n",
    "\n",
    "plt.figure(figsize=(4, 3))\n",
    "ax = sns.heatmap(conf_matrix, annot=True, fmt='d', linewidth=1., cmap='Blues', \n",
    "                 xticklabels=model.classes_, yticklabels=model.classes_)\n",
    "total = 0\n",
    "for t in ax.texts: total += float(t.get_text())\n",
    "for t in ax.texts: t.set_text(f\"{round(100 * float(t.get_text())/total, 1)}%\")\n",
    "plt.title(f'Model Stats (Confusion Matrix)')\n",
    "plt.xlabel('Predicted Labels')\n",
    "plt.ylabel('True Labels')\n",
    "plt.show()"
   ]
  }
 ],
 "metadata": {
  "kernelspec": {
   "display_name": ".venv",
   "language": "python",
   "name": "python3"
  },
  "language_info": {
   "codemirror_mode": {
    "name": "ipython",
    "version": 3
   },
   "file_extension": ".py",
   "mimetype": "text/x-python",
   "name": "python",
   "nbconvert_exporter": "python",
   "pygments_lexer": "ipython3",
   "version": "3.11.4"
  }
 },
 "nbformat": 4,
 "nbformat_minor": 2
}
