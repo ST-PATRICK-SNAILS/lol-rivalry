{
 "cells": [
  {
   "cell_type": "code",
   "execution_count": 53,
   "metadata": {},
   "outputs": [],
   "source": [
    "import pandas as pd\n",
    "from sklearn.model_selection import train_test_split"
   ]
  },
  {
   "cell_type": "code",
   "execution_count": 54,
   "metadata": {},
   "outputs": [],
   "source": [
    "df = pd.read_csv('../writes/normalizedpropdata.csv')\n",
    "\n",
    "X = df.iloc[:, :-1]\n",
    "y = df.iloc[:, -1]\n",
    "\n",
    "X_train, X_test, y_train, y_test = train_test_split(X, y, test_size=0.2, random_state=42)"
   ]
  },
  {
   "cell_type": "code",
   "execution_count": 55,
   "metadata": {},
   "outputs": [
    {
     "name": "stdout",
     "output_type": "stream",
     "text": [
      "RUNNING THE L-BFGS-B CODE\n",
      "\n",
      "           * * *\n",
      "\n",
      "Machine precision = 2.220D-16\n",
      " N =          191     M =           10\n",
      "\n",
      "At X0         0 variables are exactly at the bounds\n",
      "\n",
      "At iterate    0    f=  6.93147D-01    |proj g|=  2.22423D+01\n"
     ]
    },
    {
     "name": "stderr",
     "output_type": "stream",
     "text": [
      " This problem is unconstrained.\n"
     ]
    },
    {
     "name": "stdout",
     "output_type": "stream",
     "text": [
      "\n",
      "At iterate   50    f=  5.73345D-01    |proj g|=  3.06604D-01\n",
      "\n",
      "At iterate  100    f=  5.72095D-01    |proj g|=  2.31092D+00\n",
      "\n",
      "At iterate  150    f=  5.71585D-01    |proj g|=  3.05428D-01\n",
      "\n",
      "At iterate  200    f=  5.71114D-01    |proj g|=  5.12906D-01\n",
      "\n",
      "At iterate  250    f=  5.70637D-01    |proj g|=  3.68154D-01\n",
      "\n",
      "At iterate  300    f=  5.70086D-01    |proj g|=  7.33459D-01\n",
      "\n",
      "At iterate  350    f=  5.69434D-01    |proj g|=  4.31304D-01\n",
      "\n",
      "At iterate  400    f=  5.69053D-01    |proj g|=  6.21181D-01\n",
      "\n",
      "At iterate  450    f=  5.68743D-01    |proj g|=  1.08967D-01\n",
      "\n",
      "At iterate  500    f=  5.68560D-01    |proj g|=  1.41438D-01\n",
      "\n",
      "At iterate  550    f=  5.68419D-01    |proj g|=  9.96092D-01\n",
      "\n",
      "At iterate  600    f=  5.68199D-01    |proj g|=  1.93833D-01\n",
      "\n",
      "At iterate  650    f=  5.68083D-01    |proj g|=  1.03847D-01\n",
      "\n",
      "At iterate  700    f=  5.67796D-01    |proj g|=  2.37828D-01\n",
      "\n",
      "At iterate  750    f=  5.67762D-01    |proj g|=  2.60664D-01\n",
      "\n",
      "At iterate  800    f=  5.67706D-01    |proj g|=  1.93475D-01\n",
      "\n",
      "At iterate  850    f=  5.67670D-01    |proj g|=  5.09101D-02\n",
      "\n",
      "At iterate  900    f=  5.67581D-01    |proj g|=  1.79591D-01\n",
      "\n",
      "At iterate  950    f=  5.67495D-01    |proj g|=  1.07195D-01\n",
      "\n",
      "At iterate 1000    f=  5.67332D-01    |proj g|=  2.23974D-01\n",
      "\n",
      "At iterate 1050    f=  5.67242D-01    |proj g|=  2.27979D-01\n",
      "\n",
      "At iterate 1100    f=  5.67124D-01    |proj g|=  4.49772D-01\n",
      "\n",
      "At iterate 1150    f=  5.67045D-01    |proj g|=  1.03449D-01\n",
      "\n",
      "At iterate 1200    f=  5.66972D-01    |proj g|=  4.10369D-01\n",
      "\n",
      "At iterate 1250    f=  5.66938D-01    |proj g|=  1.50427D-01\n",
      "\n",
      "At iterate 1300    f=  5.66838D-01    |proj g|=  6.01695D-01\n",
      "\n",
      "At iterate 1350    f=  5.66732D-01    |proj g|=  2.99813D-01\n",
      "\n",
      "At iterate 1400    f=  5.66641D-01    |proj g|=  5.73436D-01\n",
      "\n",
      "At iterate 1450    f=  5.66582D-01    |proj g|=  1.68032D-01\n",
      "\n",
      "At iterate 1500    f=  5.66465D-01    |proj g|=  1.22126D-01\n",
      "\n",
      "At iterate 1550    f=  5.66302D-01    |proj g|=  1.63870D-01\n",
      "\n",
      "At iterate 1600    f=  5.66219D-01    |proj g|=  5.92879D-01\n",
      "\n",
      "At iterate 1650    f=  5.66147D-01    |proj g|=  1.96228D-01\n",
      "\n",
      "At iterate 1700    f=  5.66087D-01    |proj g|=  2.10683D-01\n",
      "\n",
      "At iterate 1750    f=  5.66026D-01    |proj g|=  2.60701D-01\n",
      "\n",
      "At iterate 1800    f=  5.65952D-01    |proj g|=  3.63132D-01\n",
      "\n",
      "At iterate 1850    f=  5.65801D-01    |proj g|=  2.46172D-01\n",
      "\n",
      "At iterate 1900    f=  5.65595D-01    |proj g|=  3.88615D-01\n",
      "\n",
      "At iterate 1950    f=  5.65517D-01    |proj g|=  9.38759D-02\n",
      "\n",
      "At iterate 2000    f=  5.65465D-01    |proj g|=  4.18466D-01\n",
      "\n",
      "           * * *\n",
      "\n",
      "Tit   = total number of iterations\n",
      "Tnf   = total number of function evaluations\n",
      "Tnint = total number of segments explored during Cauchy searches\n",
      "Skip  = number of BFGS updates skipped\n",
      "Nact  = number of active bounds at final generalized Cauchy point\n",
      "Projg = norm of the final projected gradient\n",
      "F     = final function value\n",
      "\n",
      "           * * *\n",
      "\n",
      "   N    Tit     Tnf  Tnint  Skip  Nact     Projg        F\n",
      "  191   2000   2395      1     0     0   4.185D-01   5.655D-01\n",
      "  F =  0.56546469453270765     \n",
      "\n",
      "STOP: TOTAL NO. of ITERATIONS REACHED LIMIT                 \n"
     ]
    },
    {
     "name": "stderr",
     "output_type": "stream",
     "text": [
      "/Users/johnliu/Documents/vscode-workspace/lol-rivalry/.venv/lib/python3.11/site-packages/sklearn/linear_model/_logistic.py:469: ConvergenceWarning: lbfgs failed to converge (status=1):\n",
      "STOP: TOTAL NO. of ITERATIONS REACHED LIMIT.\n",
      "\n",
      "Increase the number of iterations (max_iter) or scale the data as shown in:\n",
      "    https://scikit-learn.org/stable/modules/preprocessing.html\n",
      "Please also refer to the documentation for alternative solver options:\n",
      "    https://scikit-learn.org/stable/modules/linear_model.html#logistic-regression\n",
      "  n_iter_i = _check_optimize_result(\n"
     ]
    },
    {
     "data": {
      "text/plain": [
       "['logistic_regression_model.pkl']"
      ]
     },
     "execution_count": 55,
     "metadata": {},
     "output_type": "execute_result"
    }
   ],
   "source": [
    "from sklearn.linear_model import LogisticRegression\n",
    "import joblib\n",
    "\n",
    "model = LogisticRegression(max_iter=2000, random_state=42, verbose=1)\n",
    "model.fit(X_train, y_train)\n",
    "joblib.dump(model, 'logistic_regression_model.pkl')"
   ]
  },
  {
   "cell_type": "code",
   "execution_count": 56,
   "metadata": {},
   "outputs": [
    {
     "name": "stdout",
     "output_type": "stream",
     "text": [
      "Accuracy: 0.6988071570576541\n",
      "Confusion Matrix:\n",
      "[[2453 1123]\n",
      " [ 998 2468]]\n",
      "Classification Report:\n",
      "              precision    recall  f1-score   support\n",
      "\n",
      "           0       0.71      0.69      0.70      3576\n",
      "           1       0.69      0.71      0.70      3466\n",
      "\n",
      "    accuracy                           0.70      7042\n",
      "   macro avg       0.70      0.70      0.70      7042\n",
      "weighted avg       0.70      0.70      0.70      7042\n",
      "\n"
     ]
    }
   ],
   "source": [
    "\n",
    "from sklearn.metrics import accuracy_score, confusion_matrix, classification_report\n",
    "\n",
    "y_pred = model.predict(X_test)\n",
    "\n",
    "accuracy = accuracy_score(y_test, y_pred)\n",
    "conf_matrix = confusion_matrix(y_test, y_pred)\n",
    "class_report = classification_report(y_test, y_pred)\n",
    "\n",
    "print(f'Accuracy: {accuracy}')\n",
    "print('Confusion Matrix:')\n",
    "print(conf_matrix)\n",
    "print('Classification Report:')\n",
    "print(class_report)"
   ]
  },
  {
   "cell_type": "code",
   "execution_count": 57,
   "metadata": {},
   "outputs": [
    {
     "data": {
      "image/png": "[encoded data removed]",
      "text/plain": [
       "<Figure size 400x300 with 2 Axes>"
      ]
     },
     "metadata": {},
     "output_type": "display_data"
    }
   ],
   "source": [
    "import seaborn as sns\n",
    "import matplotlib.pyplot as plt\n",
    "\n",
    "plt.figure(figsize=(4, 3))\n",
    "ax = sns.heatmap(conf_matrix, annot=True, fmt='d', linewidth=1., cmap='Blues', \n",
    "                 xticklabels=model.classes_, yticklabels=model.classes_)\n",
    "total = 0\n",
    "for t in ax.texts: total += float(t.get_text())\n",
    "for t in ax.texts: t.set_text(f\"{round(100 * float(t.get_text())/total, 1)}%\")\n",
    "plt.title(f'Model Stats (Confusion Matrix)')\n",
    "plt.xlabel('Predicted Labels')\n",
    "plt.ylabel('True Labels')\n",
    "plt.show()"
   ]
  }
 ],
 "metadata": {
  "kernelspec": {
   "display_name": ".venv",
   "language": "python",
   "name": "python3"
  },
  "language_info": {
   "codemirror_mode": {
    "name": "ipython",
    "version": 3
   },
   "file_extension": ".py",
   "mimetype": "text/x-python",
   "name": "python",
   "nbconvert_exporter": "python",
   "pygments_lexer": "ipython3",
   "version": "3.11.4"
  }
 },
 "nbformat": 4,
 "nbformat_minor": 2
}
