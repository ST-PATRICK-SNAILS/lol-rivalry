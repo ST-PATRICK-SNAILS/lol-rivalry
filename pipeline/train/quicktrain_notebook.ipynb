{
 "cells": [
  {
   "cell_type": "code",
   "execution_count": 76,
   "metadata": {},
   "outputs": [],
   "source": [
    "import pandas as pd\n",
    "from sklearn.model_selection import train_test_split"
   ]
  },
  {
   "cell_type": "code",
   "execution_count": 77,
   "metadata": {},
   "outputs": [
    {
     "name": "stdout",
     "output_type": "stream",
     "text": [
      "       Unnamed: 0  IsWR  IsKR  IsCN  IsEUW  IsNA  IsPCS  IsVN  IsJP  IsBR  \\\n",
      "0               0     0     0     0      0     0      0     0     0     1   \n",
      "1               1     0     1     0      0     0      0     0     0     0   \n",
      "2               2     0     0     0      0     0      0     0     0     0   \n",
      "3               3     0     0     0      0     0      0     0     0     0   \n",
      "4               4     1     0     0      0     0      0     0     0     0   \n",
      "...           ...   ...   ...   ...    ...   ...    ...   ...   ...   ...   \n",
      "35203       35203     0     0     0      0     0      0     0     0     0   \n",
      "35204       35204     0     0     0      0     0      0     0     0     0   \n",
      "35205       35205     0     0     0      0     0      0     0     0     0   \n",
      "35206       35206     0     0     0      0     0      0     0     0     0   \n",
      "35207       35207     0     0     0      0     0      0     0     0     0   \n",
      "\n",
      "       ...  T2_P4_DPM  T2_P4_SoloKills  T2_P5_WinRate  T2_P5_KDA  T2_P5_CSPM  \\\n",
      "0      ...   0.003337         1.002981       1.769127   0.692228   -0.181750   \n",
      "1      ...  -0.866298        -0.348465       1.502314   3.867862    5.252754   \n",
      "2      ...   0.235410        -0.348465       0.679004   0.177260   -0.328629   \n",
      "3      ...  -0.107174         0.327258       0.745072  -0.080224    0.405764   \n",
      "4      ...   1.575141         2.354427       1.249932  -0.337707    0.112007   \n",
      "...    ...        ...              ...            ...        ...         ...   \n",
      "35203  ...   0.845770         0.665119       2.231603   4.983626   -0.402068   \n",
      "35204  ...  -1.386549        -0.686327      -1.391127  -1.024331   -0.255189   \n",
      "35205  ...   0.916326         1.678704       0.546868   0.348916   -0.181750   \n",
      "35206  ...  -0.019615        -0.348465      -0.579765  -1.195987    3.857408   \n",
      "35207  ...   0.378224        -0.010604       0.832802   0.005604   -0.255189   \n",
      "\n",
      "       T2_P5_KP  T2_P5_DPM  T2_P5_SoloKills  Games  Result  \n",
      "0     -1.112467  -0.425054        -0.515299      5       1  \n",
      "1      0.182729   3.469542         2.056848      1       1  \n",
      "2      0.150749  -0.504786        -0.515299      1       1  \n",
      "3      0.262679   0.237334        -0.515299      1       0  \n",
      "4      0.086789   0.703459         0.770775      5       1  \n",
      "...         ...        ...              ...    ...     ...  \n",
      "35203  1.126143   0.150242        -0.515299      1       1  \n",
      "35204 -0.217023  -0.875233        -0.515299      1       0  \n",
      "35205  0.422580  -0.421374        -0.515299      1       0  \n",
      "35206 -2.391672   3.373864         0.127738      1       0  \n",
      "35207 -0.712715  -0.559985         0.127738      1       1  \n",
      "\n",
      "[35208 rows x 108 columns]\n"
     ]
    }
   ],
   "source": [
    "df = pd.read_csv('../writes/normalizedpropdata.csv')\n",
    "print(df)\n",
    "\n",
    "X = df.iloc[:, :-1]\n",
    "y = df.iloc[:, -1]\n",
    "\n",
    "X_train, X_test, y_train, y_test = train_test_split(X, y, test_size=0.2, random_state=3280)"
   ]
  },
  {
   "cell_type": "code",
   "execution_count": 78,
   "metadata": {},
   "outputs": [
    {
     "name": "stdout",
     "output_type": "stream",
     "text": [
      "RUNNING THE L-BFGS-B CODE\n",
      "\n",
      "           * * *\n",
      "\n",
      "Machine precision = 2.220D-16\n",
      " N =          108     M =           10\n",
      "\n",
      "At X0         0 variables are exactly at the bounds\n",
      "\n",
      "At iterate    0    f=  6.93147D-01    |proj g|=  3.42745D+02\n"
     ]
    },
    {
     "name": "stderr",
     "output_type": "stream",
     "text": [
      " This problem is unconstrained.\n"
     ]
    },
    {
     "name": "stdout",
     "output_type": "stream",
     "text": [
      "\n",
      "At iterate   50    f=  5.67013D-01    |proj g|=  9.51298D-01\n",
      "\n",
      "At iterate  100    f=  5.59279D-01    |proj g|=  1.25783D+01\n",
      "\n",
      "At iterate  150    f=  5.54404D-01    |proj g|=  4.76255D-02\n",
      "\n",
      "At iterate  200    f=  5.54109D-01    |proj g|=  6.09412D-01\n",
      "\n",
      "At iterate  250    f=  5.53052D-01    |proj g|=  1.45402D+00\n",
      "\n",
      "At iterate  300    f=  5.52357D-01    |proj g|=  4.67019D-02\n",
      "\n",
      "At iterate  350    f=  5.51041D-01    |proj g|=  1.37418D+00\n",
      "\n",
      "At iterate  400    f=  5.50743D-01    |proj g|=  4.45803D+01\n",
      "\n",
      "At iterate  450    f=  5.50048D-01    |proj g|=  8.29670D-01\n",
      "\n",
      "At iterate  500    f=  5.50036D-01    |proj g|=  1.99900D-01\n",
      "\n",
      "At iterate  550    f=  5.50034D-01    |proj g|=  3.17845D-02\n",
      "\n",
      "At iterate  600    f=  5.49675D-01    |proj g|=  8.29403D-01\n",
      "\n",
      "At iterate  650    f=  5.49675D-01    |proj g|=  2.82403D-01\n",
      "\n",
      "At iterate  700    f=  5.49654D-01    |proj g|=  1.41449D+01\n",
      "\n",
      "At iterate  750    f=  5.49277D-01    |proj g|=  3.21671D+01\n",
      "\n",
      "At iterate  800    f=  5.49212D-01    |proj g|=  1.53456D-02\n",
      "\n",
      "At iterate  850    f=  5.48661D-01    |proj g|=  6.83318D-02\n",
      "\n",
      "At iterate  900    f=  5.48472D-01    |proj g|=  2.60889D+00\n",
      "\n",
      "At iterate  950    f=  5.48317D-01    |proj g|=  6.00058D+00\n",
      "\n",
      "At iterate 1000    f=  5.48296D-01    |proj g|=  5.43666D-02\n",
      "\n",
      "At iterate 1050    f=  5.48143D-01    |proj g|=  8.06075D-02\n",
      "\n",
      "At iterate 1100    f=  5.48105D-01    |proj g|=  1.52885D+00\n",
      "\n",
      "At iterate 1150    f=  5.48100D-01    |proj g|=  4.54417D-03\n",
      "\n",
      "At iterate 1200    f=  5.48035D-01    |proj g|=  1.01585D-01\n",
      "\n",
      "At iterate 1250    f=  5.47967D-01    |proj g|=  1.12680D-02\n",
      "\n",
      "At iterate 1300    f=  5.47966D-01    |proj g|=  8.02282D-01\n",
      "\n",
      "At iterate 1350    f=  5.47885D-01    |proj g|=  9.46576D-01\n",
      "\n",
      "At iterate 1400    f=  5.47833D-01    |proj g|=  8.77383D-01\n",
      "\n",
      "At iterate 1450    f=  5.47832D-01    |proj g|=  1.13527D-02\n",
      "\n",
      "At iterate 1500    f=  5.47818D-01    |proj g|=  1.37947D+00\n",
      "\n",
      "At iterate 1550    f=  5.47817D-01    |proj g|=  3.85214D-01\n",
      "\n",
      "At iterate 1600    f=  5.47808D-01    |proj g|=  3.39336D-01\n",
      "\n",
      "At iterate 1650    f=  5.47792D-01    |proj g|=  6.77908D-01\n",
      "\n",
      "At iterate 1700    f=  5.47767D-01    |proj g|=  3.86809D-01\n",
      "\n",
      "At iterate 1750    f=  5.47687D-01    |proj g|=  4.68781D-03\n",
      "\n",
      "At iterate 1800    f=  5.47669D-01    |proj g|=  2.33456D-02\n",
      "\n",
      "At iterate 1850    f=  5.47654D-01    |proj g|=  6.62300D-02\n",
      "\n",
      "At iterate 1900    f=  5.47654D-01    |proj g|=  2.01773D-01\n",
      "\n",
      "At iterate 1950    f=  5.47645D-01    |proj g|=  3.00567D-02\n",
      "\n",
      "At iterate 2000    f=  5.47644D-01    |proj g|=  4.65237D-02\n",
      "\n",
      "At iterate 2050    f=  5.47620D-01    |proj g|=  6.44167D+00\n",
      "\n",
      "At iterate 2100    f=  5.47610D-01    |proj g|=  7.67067D-04\n",
      "\n",
      "At iterate 2150    f=  5.47610D-01    |proj g|=  7.87738D-01\n",
      "\n",
      "At iterate 2200    f=  5.47604D-01    |proj g|=  5.14879D-02\n",
      "\n",
      "At iterate 2250    f=  5.47596D-01    |proj g|=  1.34506D+00\n",
      "\n",
      "At iterate 2300    f=  5.47594D-01    |proj g|=  3.95187D-02\n",
      "\n",
      "At iterate 2350    f=  5.47594D-01    |proj g|=  7.56684D-03\n",
      "\n",
      "At iterate 2400    f=  5.47590D-01    |proj g|=  1.50146D-01\n",
      "\n",
      "At iterate 2450    f=  5.47584D-01    |proj g|=  4.66797D-01\n",
      "\n",
      "At iterate 2500    f=  5.47583D-01    |proj g|=  1.28632D-03\n",
      "\n",
      "           * * *\n",
      "\n",
      "Tit   = total number of iterations\n",
      "Tnf   = total number of function evaluations\n",
      "Tnint = total number of segments explored during Cauchy searches\n",
      "Skip  = number of BFGS updates skipped\n",
      "Nact  = number of active bounds at final generalized Cauchy point\n",
      "Projg = norm of the final projected gradient\n",
      "F     = final function value\n",
      "\n",
      "           * * *\n",
      "\n",
      "   N    Tit     Tnf  Tnint  Skip  Nact     Projg        F\n",
      "  108   2500   2972      1     0     0   1.286D-03   5.476D-01\n",
      "  F =  0.54758288183979020     \n",
      "\n",
      "STOP: TOTAL NO. of ITERATIONS REACHED LIMIT                 \n"
     ]
    },
    {
     "name": "stderr",
     "output_type": "stream",
     "text": [
      "/Users/johnliu/Documents/vscode-workspace/lol-rivalry/.venv/lib/python3.11/site-packages/sklearn/linear_model/_logistic.py:469: ConvergenceWarning: lbfgs failed to converge (status=1):\n",
      "STOP: TOTAL NO. of ITERATIONS REACHED LIMIT.\n",
      "\n",
      "Increase the number of iterations (max_iter) or scale the data as shown in:\n",
      "    https://scikit-learn.org/stable/modules/preprocessing.html\n",
      "Please also refer to the documentation for alternative solver options:\n",
      "    https://scikit-learn.org/stable/modules/linear_model.html#logistic-regression\n",
      "  n_iter_i = _check_optimize_result(\n"
     ]
    },
    {
     "data": {
      "text/plain": [
       "['logistic_regression_model.pkl']"
      ]
     },
     "execution_count": 78,
     "metadata": {},
     "output_type": "execute_result"
    }
   ],
   "source": [
    "from sklearn.linear_model import LogisticRegression\n",
    "import joblib\n",
    "\n",
    "model = LogisticRegression(max_iter=2500, random_state=42, verbose=1)\n",
    "model.fit(X_train, y_train)\n",
    "joblib.dump(model, 'logistic_regression_model.pkl')"
   ]
  },
  {
   "cell_type": "code",
   "execution_count": 79,
   "metadata": {},
   "outputs": [
    {
     "name": "stdout",
     "output_type": "stream",
     "text": [
      "Accuracy: 0.7179778472024992\n",
      "Confusion Matrix:\n",
      "[[2524 1052]\n",
      " [ 934 2532]]\n",
      "Classification Report:\n",
      "              precision    recall  f1-score   support\n",
      "\n",
      "           0       0.73      0.71      0.72      3576\n",
      "           1       0.71      0.73      0.72      3466\n",
      "\n",
      "    accuracy                           0.72      7042\n",
      "   macro avg       0.72      0.72      0.72      7042\n",
      "weighted avg       0.72      0.72      0.72      7042\n",
      "\n"
     ]
    }
   ],
   "source": [
    "\n",
    "from sklearn.metrics import accuracy_score, confusion_matrix, classification_report\n",
    "\n",
    "y_pred = model.predict(X_test)\n",
    "\n",
    "accuracy = accuracy_score(y_test, y_pred)\n",
    "conf_matrix = confusion_matrix(y_test, y_pred)\n",
    "class_report = classification_report(y_test, y_pred)\n",
    "\n",
    "print(f'Accuracy: {accuracy}')\n",
    "print('Confusion Matrix:')\n",
    "print(conf_matrix)\n",
    "print('Classification Report:')\n",
    "print(class_report)"
   ]
  },
  {
   "cell_type": "code",
   "execution_count": 80,
   "metadata": {},
   "outputs": [
    {
     "data": {
      "image/png": "[encoded data removed]",
      "text/plain": [
       "<Figure size 400x300 with 2 Axes>"
      ]
     },
     "metadata": {},
     "output_type": "display_data"
    }
   ],
   "source": [
    "import seaborn as sns\n",
    "import matplotlib.pyplot as plt\n",
    "\n",
    "plt.figure(figsize=(4, 3))\n",
    "ax = sns.heatmap(conf_matrix, annot=True, fmt='d', linewidth=1., cmap='Blues', \n",
    "                 xticklabels=model.classes_, yticklabels=model.classes_)\n",
    "total = 0\n",
    "for t in ax.texts: total += float(t.get_text())\n",
    "for t in ax.texts: t.set_text(f\"{round(100 * float(t.get_text())/total, 1)}%\")\n",
    "plt.title(f'Model Stats (Confusion Matrix)')\n",
    "plt.xlabel('Predicted Labels')\n",
    "plt.ylabel('True Labels')\n",
    "plt.show()"
   ]
  }
 ],
 "metadata": {
  "kernelspec": {
   "display_name": ".venv",
   "language": "python",
   "name": "python3"
  },
  "language_info": {
   "codemirror_mode": {
    "name": "ipython",
    "version": 3
   },
   "file_extension": ".py",
   "mimetype": "text/x-python",
   "name": "python",
   "nbconvert_exporter": "python",
   "pygments_lexer": "ipython3",
   "version": "3.11.4"
  }
 },
 "nbformat": 4,
 "nbformat_minor": 2
}
